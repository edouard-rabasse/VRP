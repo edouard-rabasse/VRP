{
 "cells": [
  {
   "cell_type": "code",
   "execution_count": 1,
   "id": "43029945",
   "metadata": {},
   "outputs": [],
   "source": [
    "import matplotlib.pyplot as plt\n",
    "import numpy as np\n",
    "import os\n",
    "import re"
   ]
  },
  {
   "cell_type": "code",
   "execution_count": 2,
   "id": "d74fb39e",
   "metadata": {},
   "outputs": [],
   "source": [
    "def read_arcs(file_path):\n",
    "    arcs = []\n",
    "    with open(file_path, 'r') as file:\n",
    "        for line in file:\n",
    "            tail, head, mode, route_id = map(int, line.strip().split(';'))\n",
    "            arcs.append((tail, head, mode, route_id))\n",
    "    return arcs\n",
    "\n",
    "def read_coordinates(file_path):\n",
    "    coordinates = {}\n",
    "    last_node = None\n",
    "    with open(file_path, 'r') as file:\n",
    "        for line in file:\n",
    "            parts = line.strip().split(',')\n",
    "            node = int(parts[0])\n",
    "            x, y = map(float, parts[1:3])\n",
    "            coordinates[node] = (x, y)\n",
    "            last_node = node  # The last node is the depot\n",
    "    return coordinates, last_node\n",
    "\n",
    "def plot_routes(arcs, coordinates, depot, output_file):\n",
    "    plt.figure(figsize=(10, 6))\n",
    "    route_colors = {}\n",
    "    unique_routes = set(route_id for _, _, _, route_id in arcs)\n",
    "    #colors = plt.cm.tab10(np.linspace(0, 1, len(unique_routes)))\n",
    "    \n",
    "    #for route_id, color in zip(unique_routes, colors):\n",
    "        #route_colors[route_id] = color\n",
    "    \n",
    "    for tail, head, mode, route_id in arcs:\n",
    "        x1, y1 = coordinates[tail]\n",
    "        x2, y2 = coordinates[head]\n",
    "        linestyle = '-' if mode == 1 else '--'  # Regular for mode 1, dashed for mode 2\n",
    "        arccolor = \"green\" if mode == 2 else \"blue\" #route_colors[route_id]\n",
    "        \n",
    "        plt.plot([x1, x2], [y1, y2], linestyle=linestyle, color=arccolor, label=f'Route {route_id}' if route_id not in route_colors else \"\")\n",
    "    \n",
    "    # Plot nodes with different markers and add labels\n",
    "    for node, (x, y) in coordinates.items():\n",
    "        if node == depot:\n",
    "            plt.scatter(x, y, color='red', marker='s', label='Depot')  # Square for depot\n",
    "        else:\n",
    "            plt.scatter(x, y, color='black', marker='o')  # Circle for other nodes\n",
    "        plt.text(x + 0.1, y + 0.1, str(node), fontsize=9, color='blue')  # Add node ID\n",
    "    \n",
    "    plt.xlabel(\"X Coordinate (km)\")\n",
    "    plt.ylabel(\"Y Coordinate (km)\")\n",
    "    #plt.legend()\n",
    "    plt.grid(True)\n",
    "    plt.savefig(output_file)\n",
    "    plt.close()\n",
    "\n",
    "def process_all_solutions(arcs_folder, coordinates_folder, output_folder):\n",
    "    if not os.path.exists(output_folder):\n",
    "        os.makedirs(output_folder)\n",
    "    \n",
    "    for filename in os.listdir(arcs_folder):\n",
    "        match = re.match(r'Arcs_(\\w+)_\\d+\\.txt', filename)\n",
    "        if match:\n",
    "            instance = match.group(1)\n",
    "            arcs_file = os.path.join(arcs_folder, filename)\n",
    "            coordinates_file = os.path.join(coordinates_folder, f'Coordinates_{instance}.txt')\n",
    "            output_file = os.path.join(output_folder, f'Plot_{instance}.png')\n",
    "            \n",
    "            if os.path.exists(coordinates_file):\n",
    "                arcs = read_arcs(arcs_file)\n",
    "                coordinates, depot = read_coordinates(coordinates_file)\n",
    "                plot_routes(arcs, coordinates, depot, output_file)\n",
    "            else:\n",
    "                print(f\"Warning: Coordinates file {coordinates_file} not found.\")\n",
    "\n"
   ]
  },
  {
   "cell_type": "code",
   "execution_count": 3,
   "id": "05e7fb3a",
   "metadata": {},
   "outputs": [],
   "source": [
    "# File paths\n",
    "arcs_folder = \"./results/configuration1/\"\n",
    "coordinates_folder = \"./instances/\"\n",
    "output_folder = \"./plots/configuration1/\"\n",
    "\n",
    "# Process all solutions\n",
    "process_all_solutions(arcs_folder, coordinates_folder, output_folder)\n"
   ]
  },
  {
   "cell_type": "code",
   "execution_count": 4,
   "id": "001990aa",
   "metadata": {},
   "outputs": [],
   "source": [
    "# File paths\n",
    "arcs_folder = \"./results/configuration2/\"\n",
    "coordinates_folder = \"./instances/\"\n",
    "output_folder = \"./plots/configuration2/\"\n",
    "\n",
    "# Process all solutions\n",
    "process_all_solutions(arcs_folder, coordinates_folder, output_folder)\n"
   ]
  },
  {
   "cell_type": "code",
   "execution_count": 5,
   "id": "ee8e9253",
   "metadata": {},
   "outputs": [],
   "source": [
    "# File paths\n",
    "arcs_folder = \"./results/configuration3/\"\n",
    "coordinates_folder = \"./instances/\"\n",
    "output_folder = \"./plots/configuration3/\"\n",
    "\n",
    "# Process all solutions\n",
    "process_all_solutions(arcs_folder, coordinates_folder, output_folder)"
   ]
  },
  {
   "cell_type": "code",
   "execution_count": 3,
   "id": "b22d1445",
   "metadata": {},
   "outputs": [],
   "source": [
    "# File paths\n",
    "arcs_folder = \"./results/configuration4/\"\n",
    "coordinates_folder = \"./instances/\"\n",
    "output_folder = \"./plots/configuration4/\"\n",
    "\n",
    "# Process all solutions\n",
    "process_all_solutions(arcs_folder, coordinates_folder, output_folder)"
   ]
  },
  {
   "cell_type": "code",
   "execution_count": 4,
   "id": "c51991a7",
   "metadata": {},
   "outputs": [],
   "source": [
    "# File paths\n",
    "arcs_folder = \"./results/configuration5/\"\n",
    "coordinates_folder = \"./instances/\"\n",
    "output_folder = \"./plots/configuration5/\"\n",
    "\n",
    "# Process all solutions\n",
    "process_all_solutions(arcs_folder, coordinates_folder, output_folder)"
   ]
  },
  {
   "cell_type": "code",
   "execution_count": null,
   "id": "57efa6f0",
   "metadata": {},
   "outputs": [],
   "source": [
    "# File paths\n",
    "arcs_folder = \"./results/configuration5/\"\n",
    "coordinates_folder = \"./instances/\"\n",
    "output_folder = \"./plots/configuration5/\"\n",
    "\n",
    "# Process all solutions\n",
    "process_all_solutions(arcs_folder, coordinates_folder, output_folder)"
   ]
  }
 ],
 "metadata": {
  "kernelspec": {
   "display_name": "Python 3 (ipykernel)",
   "language": "python",
   "name": "python3"
  },
  "language_info": {
   "codemirror_mode": {
    "name": "ipython",
    "version": 3
   },
   "file_extension": ".py",
   "mimetype": "text/x-python",
   "name": "python",
   "nbconvert_exporter": "python",
   "pygments_lexer": "ipython3",
   "version": "3.9.7"
  }
 },
 "nbformat": 4,
 "nbformat_minor": 5
}
